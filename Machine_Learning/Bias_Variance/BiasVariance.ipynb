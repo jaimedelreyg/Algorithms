{
 "cells": [
  {
   "cell_type": "code",
   "execution_count": null,
   "metadata": {},
   "outputs": [],
   "source": [
    "# Practica 5 Bias Variance\n",
    "# Autor: Jaime del Rey, Grupo 24"
   ]
  },
  {
   "cell_type": "code",
   "execution_count": 222,
   "metadata": {},
   "outputs": [],
   "source": [
    "import pandas as p\n",
    "import numpy as np\n",
    "import matplotlib.pyplot as plt\n",
    "import scipy.optimize as opt\n",
    "from scipy.io import loadmat"
   ]
  },
  {
   "cell_type": "code",
   "execution_count": 223,
   "metadata": {},
   "outputs": [],
   "source": [
    "#Data\n",
    "data = loadmat('ex5data1')\n",
    "\n",
    "y = data['y']\n",
    "x_data = data['X']\n",
    "x = np.hstack((np.ones(np.shape(x_data)),x_data))\n",
    "\n",
    "xval = data['Xval']\n",
    "xval = np.hstack((np.ones(np.shape(xval)),xval))\n",
    "yval = data['yval']\n",
    "\n",
    "xtest = data['Xtest']\n",
    "xtest = np.hstack((np.ones(np.shape(xtest)),xtest))\n",
    "ytest = data['ytest']\n",
    "\n",
    "x_T = x.T\n",
    "xval_T = xval.T\n",
    "xtest_T = xtest.T"
   ]
  },
  {
   "cell_type": "code",
   "execution_count": 317,
   "metadata": {},
   "outputs": [],
   "source": [
    "#functions\n",
    "def linear_regression_cost(theta,lmda,x,x_T,y):\n",
    "    \n",
    "    m = np.shape(y)[0]\n",
    "    h = theta @ x_T\n",
    "    h_T = np.matrix(h).T\n",
    "    a = np.sum(np.power((h_T - y),2))\n",
    "    \n",
    "    cost = ((1/(2*m)) * a) + ((lmda/(2*m))*(np.sum(np.power(theta[1:],2))))\n",
    "    return cost\n",
    "\n",
    "def linear_regression_gradient(theta,lmda,x,x_T,y):\n",
    "\n",
    "    m = np.shape(y)[0]\n",
    "    h = theta @ x_T\n",
    "    h_T = np.matrix(h).T\n",
    "    g= ((1/m) * ((h_T - y).T @ x).T) + ((lmda/m) * np.vstack((np.zeros(1),np.matrix(theta[1:]).T)))\n",
    "\n",
    "    return np.asarray(g).ravel()\n",
    "\n",
    "def fit(theta,l,x,x_T,y):\n",
    "\n",
    "    res = opt.minimize(linear_regression_cost,x0=theta,args=(l,x,x_T,y),jac=linear_regression_gradient)\n",
    "    return res"
   ]
  },
  {
   "cell_type": "code",
   "execution_count": 268,
   "metadata": {},
   "outputs": [
    {
     "name": "stdout",
     "output_type": "stream",
     "text": [
      "303.9931922202643\n",
      "[-15.30301567 598.25074417]\n",
      "      fun: 22.373906495108915\n",
      " hess_inv: array([[1.0297299 , 0.00612422],\n",
      "       [0.00612422, 0.00121324]])\n",
      "      jac: array([1.48804385e-08, 3.97027009e-07])\n",
      "  message: 'Optimization terminated successfully.'\n",
      "     nfev: 6\n",
      "      nit: 5\n",
      "     njev: 6\n",
      "   status: 0\n",
      "  success: True\n",
      "        x: array([13.08790353,  0.36777923])\n",
      "[[  1.   1.   1.   1.   1.   1.   1.   1.   1.   1.   1.   1.   1.   1.\n",
      "    1.   1.   1.   1.   1.   1.   1.   1.   1.   1.   1.   1.   1.   1.\n",
      "    1.   1.   1.   1.   1.   1.   1.   1.   1.   1.   1.   1.   1.   1.\n",
      "    1.   1.   1.   1.   1.   1.   1.   1.   1.   1.   1.   1.   1.   1.\n",
      "    1.   1.   1.   1.   1.   1.   1.   1.   1.   1.   1.   1.   1.   1.\n",
      "    1.   1.   1.   1.   1.   1.   1.   1.   1.   1.   1.   1.   1.   1.\n",
      "    1.   1.   1.   1.   1.   1.]\n",
      " [-50. -49. -48. -47. -46. -45. -44. -43. -42. -41. -40. -39. -38. -37.\n",
      "  -36. -35. -34. -33. -32. -31. -30. -29. -28. -27. -26. -25. -24. -23.\n",
      "  -22. -21. -20. -19. -18. -17. -16. -15. -14. -13. -12. -11. -10.  -9.\n",
      "   -8.  -7.  -6.  -5.  -4.  -3.  -2.  -1.   0.   1.   2.   3.   4.   5.\n",
      "    6.   7.   8.   9.  10.  11.  12.  13.  14.  15.  16.  17.  18.  19.\n",
      "   20.  21.  22.  23.  24.  25.  26.  27.  28.  29.  30.  31.  32.  33.\n",
      "   34.  35.  36.  37.  38.  39.]]\n"
     ]
    },
    {
     "data": {
      "image/png": "[encoded data removed]",
      "text/plain": [
       "<Figure size 432x288 with 1 Axes>"
      ]
     },
     "metadata": {
      "needs_background": "light"
     },
     "output_type": "display_data"
    }
   ],
   "source": [
    "#Comprobaciones de la regresion\n",
    "cost = linear_regression_cost([1,1],1,x,x_T,y)\n",
    "guess = linear_regression_gradient([1,1],1,x,x_T,y)\n",
    "print(cost)\n",
    "print(guess)\n",
    "\n",
    "## Grafica\n",
    "res = fit([1,1],0,x,x_T,y)\n",
    "print(res)\n",
    "h = np.vstack((np.ones(90),range(-50,40,1)))\n",
    "print(h)\n",
    "h = np.array(res['x'] @ h)\n",
    "h = h.tolist()\n",
    "\n",
    "plt.figure()\n",
    "plt.scatter(x_data,y)\n",
    "plt.plot(range(-50,40,1),h,'-r')\n",
    "plt.show()"
   ]
  },
  {
   "cell_type": "code",
   "execution_count": 295,
   "metadata": {},
   "outputs": [
    {
     "data": {
      "image/png": "[encoded data removed]",
      "text/plain": [
       "<Figure size 432x288 with 1 Axes>"
      ]
     },
     "metadata": {
      "needs_background": "light"
     },
     "output_type": "display_data"
    }
   ],
   "source": [
    "#Learning curves\n",
    "def learning_curve(x,x_T,y,train,train_T,ytrain,l):\n",
    "\n",
    "    trainlist = []\n",
    "    validation = []\n",
    "    theta = np.ones(np.shape(x)[1])\n",
    "\n",
    "    for i in np.arange(1,len(y)+1):\n",
    "        res = fit(theta,l,x[0:i,:],x_T[:,0:i],y[0:i,:])\n",
    "        trainlist.append(linear_regression_cost(res['x'],l,x[0:i,:],x_T[:,0:i],y[0:i,:]))\n",
    "        validation.append(linear_regression_cost(res['x'],l, train, train_T, ytrain))\n",
    "\n",
    "    plt.plot(range(0,len(y),1),trainlist,'-g')\n",
    "    plt.plot(range(0,len(y),1),validation,'-r')\n",
    "    plt.show()\n",
    "    \n",
    "learning_curve(x,x_T,y,xval,xval_T,yval,0)"
   ]
  },
  {
   "cell_type": "code",
   "execution_count": 296,
   "metadata": {},
   "outputs": [],
   "source": [
    "#Polinomial regression\n",
    "def create_polinomial_features(x,p):\n",
    "    #add extra comlumns\n",
    "    extra = np.ones((np.shape(x)[0],(p-1)))\n",
    "    x=np.append(x,extra,axis=1)\n",
    "    \n",
    "    #Get polinomial columns\n",
    "    for i in range(0,p):\n",
    "        x[:,i] = np.power(x[:,0],i+1)\n",
    "\n",
    "    return x\n",
    "    \n",
    "def normalize_matrix(x): \n",
    "    #Calculations per column\n",
    "    mean = np.mean(x,0)\n",
    "    std = np.std(x,0)\n",
    "\n",
    "    x = np.subtract(x, np.matrix(mean))\n",
    "    x = np.true_divide(x, np.matrix(std))\n",
    "    \n",
    "    return x"
   ]
  },
  {
   "cell_type": "code",
   "execution_count": 297,
   "metadata": {},
   "outputs": [
    {
     "data": {
      "image/png": "[encoded data removed]",
      "text/plain": [
       "<Figure size 432x288 with 1 Axes>"
      ]
     },
     "metadata": {
      "needs_background": "light"
     },
     "output_type": "display_data"
    },
    {
     "data": {
      "image/png": "[encoded data removed]",
      "text/plain": [
       "<Figure size 432x288 with 1 Axes>"
      ]
     },
     "metadata": {
      "needs_background": "light"
     },
     "output_type": "display_data"
    },
    {
     "data": {
      "image/png": "[encoded data removed]",
      "text/plain": [
       "<Figure size 432x288 with 1 Axes>"
      ]
     },
     "metadata": {
      "needs_background": "light"
     },
     "output_type": "display_data"
    }
   ],
   "source": [
    "#POLINOMIAL FEATURES\n",
    "p = 8\n",
    "theta = np.ones(p+1)\n",
    "\n",
    "#CHECK THE NEW FUNCTIONS AND TRAIN\n",
    "#create polinomial features p = 8\n",
    "x_pol = create_polinomial_features(x_data,p)\n",
    "#normalize features\n",
    "x_norm = normalize_matrix(x_pol)\n",
    "#insert ones\n",
    "ones = np.ones(np.shape(x_norm)[0])\n",
    "x_norm = np.hstack((np.matrix(ones).T, x_norm))\n",
    "\n",
    "#fit the model and get cost\n",
    "res = fit(theta,0,x_norm,x_norm.T,y)\n",
    "\n",
    "h = np.array(res['x'] @ x_norm.T)[0]\n",
    "plt.figure()\n",
    "plt.scatter(x_data,y)\n",
    "plt.plot(x_data,h.T,'+r')\n",
    "plt.show()\n",
    "\n",
    "#LEARNING CURVE\n",
    "#transform xval\n",
    "xval_pol = create_polinomial_features(data['Xval'],p)\n",
    "#normalize features\n",
    "xval_norm = normalize_matrix(xval_pol)\n",
    "#insert ones\n",
    "ones = np.ones(np.shape(xval_norm)[0])\n",
    "xval_norm = np.hstack((np.matrix(ones).T, xval_norm))\n",
    "\n",
    "learning_curve(x_norm,x_norm.T,y,xval_norm,xval_norm.T,yval,0)\n",
    "\n",
    "#PLOT MORE VALUES\n",
    "#graphics\n",
    "h = np.arange(np.min(x_data),np.max(x_data),0.05)\n",
    "h_pol = create_polinomial_features(h[:,np.newaxis],p)\n",
    "h_norm = normalize_matrix(h_pol)\n",
    "ones = np.ones(np.shape(h_norm)[0])\n",
    "h_norm = np.hstack((np.matrix(ones).T, h_norm))\n",
    "h = np.array(res['x'] @ h_norm.T)[0]\n",
    "\n",
    "plt.figure()\n",
    "plt.scatter(x_data,y)\n",
    "plt.plot(np.arange(np.min(x_data),np.max(x_data),0.05),h,'-r')\n",
    "plt.show()\n"
   ]
  },
  {
   "cell_type": "code",
   "execution_count": 319,
   "metadata": {},
   "outputs": [
    {
     "data": {
      "image/png": "[encoded data removed]",
      "text/plain": [
       "<Figure size 432x288 with 1 Axes>"
      ]
     },
     "metadata": {
      "needs_background": "light"
     },
     "output_type": "display_data"
    }
   ],
   "source": [
    "#LAMBDA SELECTION\n",
    "validation = []\n",
    "train = []\n",
    "lam = [0,0.001,0.003,0.01,0.03,0.1,0.3,1,3,10]\n",
    "\n",
    "#transform x\n",
    "x_pol = create_polinomial_features(x_data,p)\n",
    "#normalize features\n",
    "x_norm = normalize_matrix(x_pol)\n",
    "#insert ones\n",
    "ones = np.ones(np.shape(x_norm)[0])\n",
    "x_norm = np.hstack((np.matrix(ones).T, x_norm))\n",
    "\n",
    "#transform xval\n",
    "xval_pol = create_polinomial_features(data['Xval'],p)\n",
    "#normalize features\n",
    "xval_norm = normalize_matrix(xval_pol)\n",
    "#insert ones\n",
    "ones = np.ones(np.shape(xval_norm)[0])\n",
    "xval_norm = np.hstack((np.matrix(ones).T, xval_norm))\n",
    "\n",
    "#transform xtest\n",
    "xtest_pol = create_polinomial_features(data['Xtest'],p)\n",
    "#normalize features\n",
    "xtest_norm = normalize_matrix(xtest_pol)\n",
    "#insert ones\n",
    "ones = np.ones(np.shape(xtest_norm)[0])\n",
    "xtest_norm = np.hstack((np.matrix(ones).T, xtest_norm))\n",
    "\n",
    "#fit the model and get cost\n",
    "theta = np.ones(p+1)\n",
    "\n",
    "for l in lam:\n",
    "    res = fit(theta,l,x_norm,x_norm.T,y)\n",
    "    train.append(linear_regression_cost(res['x'],l, x_norm, x_norm.T, y))\n",
    "    validation.append(linear_regression_cost(res['x'],l, xval_norm, xval_norm.T, yval))\n",
    "\n",
    "plt.plot(lam,train,'-g')\n",
    "plt.plot(lam,validation,'-r')\n",
    "plt.show()"
   ]
  },
  {
   "cell_type": "code",
   "execution_count": 320,
   "metadata": {},
   "outputs": [
    {
     "name": "stdout",
     "output_type": "stream",
     "text": [
      "17.720340412318546\n"
     ]
    }
   ],
   "source": [
    "res = fit(theta,3,x_norm,x_norm.T,y)\n",
    "print(linear_regression_cost(res['x'],3, xtest_norm, xtest_norm.T, ytest))"
   ]
  }
 ],
 "metadata": {
  "kernelspec": {
   "display_name": "Python 3",
   "language": "python",
   "name": "python3"
  },
  "language_info": {
   "codemirror_mode": {
    "name": "ipython",
    "version": 3
   },
   "file_extension": ".py",
   "mimetype": "text/x-python",
   "name": "python",
   "nbconvert_exporter": "python",
   "pygments_lexer": "ipython3",
   "version": "3.7.3"
  }
 },
 "nbformat": 4,
 "nbformat_minor": 2
}
