{
 "cells": [
  {
   "cell_type": "code",
   "execution_count": 4,
   "metadata": {},
   "outputs": [],
   "source": [
    "import displayData\n",
    "import pandas as p\n",
    "import numpy as np\n",
    "import matplotlib.pyplot as mp\n",
    "import scipy.optimize as opt\n",
    "from scipy.io import loadmat"
   ]
  },
  {
   "cell_type": "code",
   "execution_count": 5,
   "metadata": {},
   "outputs": [],
   "source": [
    "#Data access\n",
    "data = loadmat('ex4data1.mat')\n",
    "weights = loadmat('ex4weights.mat')\n",
    "\n",
    "\n",
    "y = data['y']\n",
    "x = data['X']\n",
    "y = np.matrix(y)\n",
    "x = np.matrix(x)\n",
    "y_T = y.T.ravel()\n",
    "x_T = x.T\n",
    "x = np.hstack((np.ones((np.shape(x)[0],1)),x))\n",
    "x_T = x.T\n",
    "\n",
    "m = x.shape[0]\n",
    "\n",
    "weights = weights['Theta1'],weights['Theta2']\n",
    "weights = np.matrix(weights)"
   ]
  },
  {
   "cell_type": "code",
   "execution_count": 13,
   "metadata": {},
   "outputs": [],
   "source": [
    "def expand_labels(y, num_labels):\n",
    "    y = (np.ones((np.shape(y)[0],num_labels)) * np.array(y))\n",
    "    r = range(1,num_labels + 1)\n",
    "    y = y == r\n",
    "    y = y * 1\n",
    "    y = np.matrix(y)\n",
    "    return y\n",
    "\n",
    "sigmoid_function = lambda a : 1 / (1 + np.vectorize(np.exp)(-a))\n",
    "\n",
    "def forward_propagation(activation, weights, i, layers):\n",
    "    if i == (layers - 2):\n",
    "        return np.array(sigmoid_function(weights[0,i] @ activation))\n",
    "    \n",
    "    if i == -1:\n",
    "        return forward_propagation(activation,weights,i+1,layers)\n",
    "    else:\n",
    "        sigmoid = sigmoid_function(weights[0,i] @ activation)\n",
    "        activation = np.vstack((1,sigmoid))\n",
    "        return forward_propagation(activation, weights, i+1, layers)\n",
    "\n",
    "def backprop_cost(x_T,y,weights,layers,m,nlabels,l):\n",
    "    h = []\n",
    "    for i in np.arange(np.shape(x)[0]):\n",
    "        h.append(forward_propagation(x_T[:,i],weights,-1,layers))\n",
    "    h = np.array(h)\n",
    "    h = np.squeeze(h)\n",
    "    h_T = h.T\n",
    "\n",
    "    y = expand_labels(y, nlabels)\n",
    "    reg = (l/(2*m)) * (np.sum(np.sum(np.exp2(weights[0,0][:,1:]),1),0) + np.sum(np.sum(np.exp2(weights[0,1][:,1:]),1),0))\n",
    "    cost = (1/m * np.sum((np.diag((-1 * y) @ np.log(h_T)) - np.diag((1 - y) @ np.log(1 - h_T))))) + reg\n",
    "    \n",
    "    return cost\n",
    "\n",
    "def gradient_derivative(z):\n",
    "    return sigmoid_function(z) @ (1 - sigmoid_function(z))\n",
    "\n",
    "def random_weights(L_in, L_out):\n",
    "    return np.random.uniform(-0.12,0.12,(L_out,1 + L_in))\n",
    "\n",
    "def backpropagation_algorithm_3layer(param_nn, ninputs, layers , nlabels , x, y, reg):\n",
    "   \n",
    "    weights = random_weights(ninputs, param_nn[0]),random_weights(param_nn[0], param_nn[1])\n",
    "    weights = np.matrix(weights)\n",
    "\n",
    "    h = []\n",
    "    for i in np.arange(np.shape(x)[0]):\n",
    "        h.append(forward_propagation(x_T[:,i],weights,-1,layers))\n",
    "    h = np.array(h)\n",
    "    h = np.squeeze(h)\n",
    "    h_T = h.T\n",
    "    \n",
    "    y = expand_labels(y, nlabels)\n",
    "\n",
    "    error_3 = h - y"
   ]
  },
  {
   "cell_type": "code",
   "execution_count": 12,
   "metadata": {},
   "outputs": [
    {
     "name": "stdout",
     "output_type": "stream",
     "text": [
      "[[ 0.4843846   0.46575391  0.40137607 ...  0.46049384  0.53926708\n",
      "  -0.47414379]\n",
      " [ 0.49340883  0.46810366  0.40047011 ...  0.45970153  0.542054\n",
      "  -0.48085282]\n",
      " [ 0.48956308  0.45876083  0.38794959 ...  0.47335064  0.54352574\n",
      "  -0.47460935]\n",
      " ...\n",
      " [ 0.4833187   0.45606019  0.38152037 ...  0.48431378 -0.4701386\n",
      "   0.52145457]\n",
      " [ 0.48281398  0.46807607  0.39025088 ...  0.46783725 -0.45954683\n",
      "   0.51480152]\n",
      " [ 0.48285678  0.47627127  0.39149262 ...  0.46531297 -0.46312436\n",
      "   0.52184775]]\n"
     ]
    }
   ],
   "source": [
    "backpropagation_algorithm_3layer([25,10], 400, 3 , 10 , x, y, 0.1)"
   ]
  }
 ],
 "metadata": {
  "kernelspec": {
   "display_name": "Python 3",
   "language": "python",
   "name": "python3"
  },
  "language_info": {
   "codemirror_mode": {
    "name": "ipython",
    "version": 3
   },
   "file_extension": ".py",
   "mimetype": "text/x-python",
   "name": "python",
   "nbconvert_exporter": "python",
   "pygments_lexer": "ipython3",
   "version": "3.7.2"
  }
 },
 "nbformat": 4,
 "nbformat_minor": 2
}
