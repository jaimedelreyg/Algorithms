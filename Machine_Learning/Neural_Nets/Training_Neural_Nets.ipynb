{
 "cells": [
  {
   "cell_type": "code",
   "execution_count": 67,
   "metadata": {},
   "outputs": [],
   "source": [
    "import displayData\n",
    "import pandas as p\n",
    "import numpy as np\n",
    "import matplotlib.pyplot as mp\n",
    "import scipy.optimize as opt\n",
    "from scipy.io import loadmat"
   ]
  },
  {
   "cell_type": "code",
   "execution_count": 68,
   "metadata": {},
   "outputs": [],
   "source": [
    "#Data access\n",
    "data = loadmat('ex4data1.mat')\n",
    "weights = loadmat('ex4weights.mat')\n",
    "\n",
    "\n",
    "y = data['y']\n",
    "x = data['X']\n",
    "y = np.matrix(y)\n",
    "x = np.matrix(x)\n",
    "y_T = y.T.ravel()\n",
    "x_T = x.T\n",
    "x = np.hstack((np.ones((np.shape(x)[0],1)),x))\n",
    "x_T = x.T\n",
    "\n",
    "m = x.shape[0]\n",
    "\n",
    "weights = weights['Theta1'],weights['Theta2']\n",
    "weights = np.matrix(weights)"
   ]
  },
  {
   "cell_type": "code",
   "execution_count": 209,
   "metadata": {},
   "outputs": [],
   "source": [
    "def expand_labels(y, num_labels):\n",
    "    y = (np.ones((np.shape(y)[0],num_labels)) * np.array(y))\n",
    "    r = range(1,num_labels + 1)\n",
    "    y = y == r\n",
    "    y = y * 1\n",
    "    y = np.matrix(y)\n",
    "    return y\n",
    "\n",
    "sigmoid_function = lambda a : 1 / (1 + np.vectorize(np.exp)(-a))\n",
    "\n",
    "def forward_propagation(activation, weights, i, layers):\n",
    "    if i == (layers - 2):\n",
    "        return np.array(sigmoid_function(weights[0,i] @ activation))\n",
    "    \n",
    "    if i == -1:\n",
    "        return forward_propagation(activation,weights,i+1,layers)\n",
    "    else:\n",
    "        sigmoid = sigmoid_function(weights[0,i] @ activation)\n",
    "        activation = np.vstack((1,sigmoid))\n",
    "        return forward_propagation(activation, weights, i+1, layers)\n",
    "\n",
    "def backprop_cost(x_T,y,weights,layers,m,nlabels,l):\n",
    "    h = []\n",
    "    for i in np.arange(np.shape(x)[0]):\n",
    "        h.append(forward_propagation(x_T[:,i],weights,-1,layers))\n",
    "    h = np.array(h)\n",
    "    h = np.squeeze(h)\n",
    "    h_T = h.T\n",
    "\n",
    "    y = expand_labels(y, nlabels)\n",
    "    reg = (l/(2*m)) * (np.sum(np.sum(np.exp2(weights[0,0][:,1:]),1),0) + np.sum(np.sum(np.exp2(weights[0,1][:,1:]),1),0))\n",
    "    cost = (1/m * np.sum((np.diag((-1 * y) @ np.log(h_T)) - np.diag((1 - y) @ np.log(1 - h_T))))) + reg\n",
    "    \n",
    "    return cost\n",
    "\n",
    "def gradient_derivative(z):\n",
    "    return sigmoid_function(z) @ (1 - sigmoid_function(z)).T\n",
    "\n",
    "def random_weights(L_in, L_out):\n",
    "    return np.random.uniform(-0.12,0.12,(L_out,1 + L_in))\n",
    "\n",
    "def backpropagation_algorithm_3layer(param_nn, ninputs, layers , nlabels , x, y, reg):\n",
    "   \n",
    "    weights = random_weights(ninputs, param_nn[0]),random_weights(param_nn[0], param_nn[1])\n",
    "    weights = np.matrix(weights)\n",
    "\n",
    "    y = expand_labels(y, nlabels)\n",
    "    gradient_1 = 0\n",
    "    gradient_2 = 0\n",
    "\n",
    "    x_T = x.T\n",
    "    \n",
    "    for i in np.arange(np.shape(x)[0]):\n",
    "        \n",
    "        ho = []\n",
    "        hh = []\n",
    "        \n",
    "        ho.append(forward_propagation(x_T[:,i],weights,-1,layers))\n",
    "        hh.append(forward_propagation(x_T[:,i],weights,-1,layers-1))\n",
    "        ho = np.array(ho)\n",
    "        ho = np.squeeze(ho)\n",
    "        ho_T = ho.T\n",
    "\n",
    "        hh = np.array(hh)\n",
    "        hh = np.squeeze(hh)\n",
    "        hh_T = hh.T\n",
    "        print(hh)\n",
    "\n",
    "        out_error = np.array(ho.T - np.asarray(y[i,:]).ravel())\n",
    "        hide_error = (weights[0,1].T @ out_error.T) * gradient_derivative(hh)\n",
    "\n",
    "        gradient_1 = gradient_1 + hide_error[1:] @ x_T[:,i]\n",
    "        #gradient_2 = gradient_2 + .T @ x_T\n",
    "        \n",
    "        print(out_error)\n"
   ]
  },
  {
   "cell_type": "code",
   "execution_count": 210,
   "metadata": {},
   "outputs": [
    {
     "name": "stdout",
     "output_type": "stream",
     "text": [
      "[0.53234251 0.53561749 0.42266874 0.60363481 0.50761159 0.335997\n",
      " 0.67288845 0.60400243 0.62908377 0.53847818 0.40793996 0.62553116\n",
      " 0.37484591 0.66524328 0.48166528 0.51654718 0.43590132 0.73274874\n",
      " 0.32829399 0.35351044 0.54548454 0.46898988 0.58578664 0.68469828\n",
      " 0.57860505]\n"
     ]
    },
    {
     "ename": "ValueError",
     "evalue": "shapes (25,) and (401,1) not aligned: 25 (dim 0) != 401 (dim 0)",
     "traceback": [
      "\u001b[0;31m---------------------------------------------------------------------------\u001b[0m",
      "\u001b[0;31mValueError\u001b[0m                                Traceback (most recent call last)",
      "\u001b[0;32m<ipython-input-210-fd77106ad1e1>\u001b[0m in \u001b[0;36m<module>\u001b[0;34m\u001b[0m\n\u001b[0;32m----> 1\u001b[0;31m \u001b[0mbackpropagation_algorithm_3layer\u001b[0m\u001b[0;34m(\u001b[0m\u001b[0;34m[\u001b[0m\u001b[0;36m25\u001b[0m\u001b[0;34m,\u001b[0m\u001b[0;36m10\u001b[0m\u001b[0;34m]\u001b[0m\u001b[0;34m,\u001b[0m \u001b[0;36m400\u001b[0m\u001b[0;34m,\u001b[0m \u001b[0;36m3\u001b[0m \u001b[0;34m,\u001b[0m \u001b[0;36m10\u001b[0m \u001b[0;34m,\u001b[0m \u001b[0mx\u001b[0m\u001b[0;34m,\u001b[0m \u001b[0my\u001b[0m\u001b[0;34m,\u001b[0m \u001b[0;36m0.1\u001b[0m\u001b[0;34m)\u001b[0m\u001b[0;34m\u001b[0m\u001b[0;34m\u001b[0m\u001b[0m\n\u001b[0m",
      "\u001b[0;32m<ipython-input-209-94a49ac09d3f>\u001b[0m in \u001b[0;36mbackpropagation_algorithm_3layer\u001b[0;34m(param_nn, ninputs, layers, nlabels, x, y, reg)\u001b[0m\n\u001b[1;32m     70\u001b[0m         \u001b[0mhide_error\u001b[0m \u001b[0;34m=\u001b[0m \u001b[0;34m(\u001b[0m\u001b[0mweights\u001b[0m\u001b[0;34m[\u001b[0m\u001b[0;36m0\u001b[0m\u001b[0;34m,\u001b[0m\u001b[0;36m1\u001b[0m\u001b[0;34m]\u001b[0m\u001b[0;34m.\u001b[0m\u001b[0mT\u001b[0m \u001b[0;34m@\u001b[0m \u001b[0mout_error\u001b[0m\u001b[0;34m.\u001b[0m\u001b[0mT\u001b[0m\u001b[0;34m)\u001b[0m \u001b[0;34m*\u001b[0m \u001b[0mgradient_derivative\u001b[0m\u001b[0;34m(\u001b[0m\u001b[0mhh\u001b[0m\u001b[0;34m)\u001b[0m\u001b[0;34m\u001b[0m\u001b[0;34m\u001b[0m\u001b[0m\n\u001b[1;32m     71\u001b[0m \u001b[0;34m\u001b[0m\u001b[0m\n\u001b[0;32m---> 72\u001b[0;31m         \u001b[0mgradient_1\u001b[0m \u001b[0;34m=\u001b[0m \u001b[0mgradient_1\u001b[0m \u001b[0;34m+\u001b[0m \u001b[0mhide_error\u001b[0m\u001b[0;34m[\u001b[0m\u001b[0;36m1\u001b[0m\u001b[0;34m:\u001b[0m\u001b[0;34m]\u001b[0m \u001b[0;34m@\u001b[0m \u001b[0mx_T\u001b[0m\u001b[0;34m[\u001b[0m\u001b[0;34m:\u001b[0m\u001b[0;34m,\u001b[0m\u001b[0mi\u001b[0m\u001b[0;34m]\u001b[0m\u001b[0;34m\u001b[0m\u001b[0;34m\u001b[0m\u001b[0m\n\u001b[0m\u001b[1;32m     73\u001b[0m         \u001b[0;31m#gradient_2 = gradient_2 + .T @ x_T\u001b[0m\u001b[0;34m\u001b[0m\u001b[0;34m\u001b[0m\u001b[0;34m\u001b[0m\u001b[0m\n\u001b[1;32m     74\u001b[0m \u001b[0;34m\u001b[0m\u001b[0m\n",
      "\u001b[0;31mValueError\u001b[0m: shapes (25,) and (401,1) not aligned: 25 (dim 0) != 401 (dim 0)"
     ],
     "output_type": "error"
    }
   ],
   "source": [
    "backpropagation_algorithm_3layer([25,10], 400, 3 , 10 , x, y, 0.1)\n"
   ]
  },
  {
   "cell_type": "code",
   "execution_count": 50,
   "metadata": {},
   "outputs": [
    {
     "data": {
      "text/plain": [
       "matrix([[3, 3]])"
      ]
     },
     "execution_count": 50,
     "metadata": {},
     "output_type": "execute_result"
    }
   ],
   "source": [
    "a = np.matrix([[2,2],[1,1]])\n",
    "np.sum(a,0)"
   ]
  }
 ],
 "metadata": {
  "kernelspec": {
   "display_name": "Python 3",
   "language": "python",
   "name": "python3"
  },
  "language_info": {
   "codemirror_mode": {
    "name": "ipython",
    "version": 3
   },
   "file_extension": ".py",
   "mimetype": "text/x-python",
   "name": "python",
   "nbconvert_exporter": "python",
   "pygments_lexer": "ipython3",
   "version": "3.7.2"
  }
 },
 "nbformat": 4,
 "nbformat_minor": 2
}
