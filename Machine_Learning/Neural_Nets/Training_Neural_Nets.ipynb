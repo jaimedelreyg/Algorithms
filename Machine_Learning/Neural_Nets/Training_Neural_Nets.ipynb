{
 "cells": [
  {
   "cell_type": "code",
   "execution_count": null,
   "metadata": {},
   "outputs": [],
   "source": [
    "# Practica 4 Redes Neuronales\n",
    "# Autor: Jaime del Rey, Grupo 24"
   ]
  },
  {
   "cell_type": "code",
   "execution_count": 329,
   "metadata": {},
   "outputs": [],
   "source": [
    "import displayData\n",
    "import pandas as p\n",
    "import numpy as np\n",
    "import matplotlib.pyplot as mp\n",
    "import scipy.optimize as opt\n",
    "from scipy.io import loadmat\n",
    "from checkNNGradients import checkNNGradients"
   ]
  },
  {
   "cell_type": "code",
   "execution_count": 330,
   "metadata": {},
   "outputs": [
    {
     "name": "stdout",
     "output_type": "stream",
     "text": [
      "[10 10 10 ...  9  9  9]\n",
      "(5000, 400)\n"
     ]
    }
   ],
   "source": [
    "#Data access\n",
    "data = loadmat('ex4data1.mat')\n",
    "weights = loadmat('ex4weights.mat')\n",
    "\n",
    "\n",
    "y = np.array(data['y']).ravel()\n",
    "x = np.array(data['X'])\n",
    "\n",
    "print(y.ravel())\n",
    "print(np.shape(x))\n",
    "\n",
    "theta1, theta2 = weights['Theta1'],weights['Theta2']\n"
   ]
  },
  {
   "cell_type": "code",
   "execution_count": 331,
   "metadata": {},
   "outputs": [],
   "source": [
    "#Functions\n",
    "sigmoid_function = lambda a : 1 / (1 + np.vectorize(np.exp)(-a))\n",
    "\n",
    "def backprop_cost(param_nn,ninputs,nhidden,nlabels,x,y,l):\n",
    "    theta1 = np.reshape(param_nn[:nhidden*(ninputs + 1)] ,(nhidden, (ninputs + 1)))\n",
    "    theta2 = np.reshape(param_nn[nhidden*(ninputs + 1):] ,(nlabels, (nhidden + 1)))\n",
    "    m = len(y)\n",
    "    \n",
    "    x = np.hstack((np.ones((m,1)),x))\n",
    "    a2 = sigmoid_function(x @ theta1.T)\n",
    "    a2 = np.hstack((np.ones((m,1)),a2))\n",
    "    a3 = sigmoid_function(a2 @ theta2.T)\n",
    "    \n",
    "    y_dummy = np.matrix(p.get_dummies(y))\n",
    "    \n",
    "    reg = (l/(2*m)) * (np.sum(np.sum(np.power(theta1[:,1:],2),1),0) + np.sum(np.sum(np.power(theta2[:,1:],2),1),0))\n",
    "    cost = (1/m * np.sum((np.diag((-1 * y_dummy) @ np.log(a3).T) - np.diag((1 - y_dummy) @ np.log(1 - a3).T)))) + reg\n",
    "    \n",
    "    #Si vamos a usar la funcion de check gradient necesitamos comentar backpropagation\n",
    "    return cost#, backpropagation_grad(param_nn, ninputs, nhidden , nlabels , x, y, l)\n",
    "\n",
    "def gradient_derivative(z):\n",
    "    return np.multiply(sigmoid_function(z),(1 - sigmoid_function(z)))\n",
    "\n",
    "def random_weights(L_in, L_out):\n",
    "    return np.random.uniform(-0.12,0.12,(L_out,1 + L_in))\n",
    "\n",
    "def backpropagation_grad(param_nn, ninputs, nhidden , nlabels , x, y, reg):\n",
    "\n",
    "    theta1 = np.reshape(param_nn[:nhidden*(ninputs + 1)] ,(nhidden, (ninputs + 1)))\n",
    "    theta2 = np.reshape(param_nn[nhidden*(ninputs + 1):] ,(nlabels, (nhidden + 1)))\n",
    "    m = len(y)\n",
    "    gradient_1 = 0\n",
    "    gradient_2 = 0\n",
    "    y = np.array(p.get_dummies(y))\n",
    "    \n",
    "    #Si vamos a usar la funcion de check gradient, comentamos esta linea\n",
    "    x = np.hstack((np.ones((m,1)),x))\n",
    "\n",
    "    for i in np.arange(m):\n",
    "        \n",
    "        z2 = x[i,np.newaxis]@theta1.T\n",
    "        z2 = np.ravel(z2)\n",
    "        z3 = np.hstack((np.ones(1), sigmoid_function(z2)))@theta2.T\n",
    "        a3 = sigmoid_function(z3)  \n",
    "        \n",
    "        d3 = a3 - y[i,:]\n",
    "\n",
    "        z2 = np.hstack((np.ones(1),z2))\n",
    "        d2 = (d3 @ theta2) * gradient_derivative(z2)\n",
    "        \n",
    "        \n",
    "        gradient_1 = gradient_1 + (np.matrix(d2[1:]).T @ x[i,np.newaxis])\n",
    "        gradient_2 = gradient_2 + d3[np.newaxis,:].T @ np.hstack((np.ones(1), sigmoid_function(z2[1:])))[np.newaxis,:]\n",
    "    \n",
    "    gradient_1 /= m\n",
    "    gradient_2 /= m\n",
    "    \n",
    "    gradient_1[:,1:] += theta1[:,1:] * (reg/m) \n",
    "    gradient_2[:,1:] += theta2[:,1:] * (reg/m) \n",
    "\n",
    "    return np.hstack((np.ravel(gradient_1), np.ravel(gradient_2)))"
   ]
  },
  {
   "cell_type": "code",
   "execution_count": 305,
   "metadata": {},
   "outputs": [
    {
     "name": "stdout",
     "output_type": "stream",
     "text": [
      "(0.38376985909092365,)\n"
     ]
    }
   ],
   "source": [
    "#Check cost function\n",
    "nn_params = np.hstack((theta1.ravel(),theta2.ravel()))\n",
    "cost = backprop_cost(nn_params,400,25,10,x,y,1)\n",
    "print(cost)"
   ]
  },
  {
   "cell_type": "code",
   "execution_count": 315,
   "metadata": {},
   "outputs": [
    {
     "data": {
      "text/plain": [
       "array([ 5.05556846e-11,  2.85782509e-12,  6.26221297e-12,  1.31206157e-11,\n",
       "       -6.30465263e-11, -6.03961325e-14, -9.00912678e-12, -5.12656584e-11,\n",
       "       -9.29989974e-11,  7.12857551e-12, -3.97737399e-11, -1.21838206e-10,\n",
       "       -1.95650579e-11,  8.77076189e-13, -8.97304453e-12, -2.29569697e-11,\n",
       "        2.37940986e-11,  1.67521552e-12,  9.77740458e-12,  2.16938689e-11,\n",
       "        6.03760375e-11,  1.50165991e-11,  1.18947074e-11,  5.34317035e-12,\n",
       "        2.29757879e-11,  2.02671213e-11,  6.93309854e-11,  1.34677824e-11,\n",
       "        2.70894418e-12,  1.42962309e-11,  1.96933581e-11,  2.04861683e-11,\n",
       "        7.99529332e-11,  1.80326865e-11,  1.28570210e-11,  2.22010188e-11,\n",
       "        1.16048837e-11,  1.68222103e-11])"
      ]
     },
     "execution_count": 315,
     "metadata": {},
     "output_type": "execute_result"
    }
   ],
   "source": [
    "#Check gradient\n",
    "checkNNGradients(backprop_cost, 3)\n"
   ]
  },
  {
   "cell_type": "code",
   "execution_count": 332,
   "metadata": {},
   "outputs": [],
   "source": [
    "#Check implementation\n",
    "theta1 = random_weights(400,25)\n",
    "theta2 = random_weights(25,10)\n",
    "nn_params = np.hstack((theta1.ravel(),theta2.ravel()))\n",
    "res = opt.minimize(backprop_cost,x0=nn_params,args=(400,25,10,x,y,1),method='TNC',options={'maxiter': 70},jac=backpropagation_grad)"
   ]
  },
  {
   "cell_type": "code",
   "execution_count": 327,
   "metadata": {},
   "outputs": [
    {
     "data": {
      "text/plain": [
       "0.9166"
      ]
     },
     "execution_count": 327,
     "metadata": {},
     "output_type": "execute_result"
    }
   ],
   "source": [
    "#Accuracy\n",
    "theta1 = np.reshape(res['x'][:25*(400 + 1)] ,(25, (400 + 1)))\n",
    "theta2 = np.reshape(res['x'][25*(400 + 1):] ,(10, (25 + 1)))\n",
    "m = len(y)\n",
    "x = np.hstack((np.ones((np.shape(x)[0],1)),x))\n",
    "a2 = sigmoid_function(x @ theta1.T)\n",
    "a2 = np.hstack((np.ones((m,1)),a2))\n",
    "a3 = sigmoid_function(a2 @ theta2.T)\n",
    "np.sum(np.ravel(np.argmax(a3, axis = 1) + 1) == data['y'].T)/m"
   ]
  }
 ],
 "metadata": {
  "kernelspec": {
   "display_name": "Python 3",
   "language": "python",
   "name": "python3"
  },
  "language_info": {
   "codemirror_mode": {
    "name": "ipython",
    "version": 3
   },
   "file_extension": ".py",
   "mimetype": "text/x-python",
   "name": "python",
   "nbconvert_exporter": "python",
   "pygments_lexer": "ipython3",
   "version": "3.7.3"
  }
 },
 "nbformat": 4,
 "nbformat_minor": 2
}
