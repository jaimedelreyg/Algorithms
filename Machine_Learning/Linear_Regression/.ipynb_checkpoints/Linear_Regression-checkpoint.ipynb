{
 "cells": [
  {
   "cell_type": "code",
   "execution_count": 594,
   "metadata": {},
   "outputs": [],
   "source": [
    "import pandas as p\n",
    "import matplotlib.pyplot as plt\n",
    "import numpy as np\n",
    "import time"
   ]
  },
  {
   "cell_type": "code",
   "execution_count": 595,
   "metadata": {},
   "outputs": [],
   "source": [
    "#PARTE 1\n",
    "data = p.read_csv(\"ex1data1.csv\",sep=',',names=[\"Ingresos en 10000\",\n",
    "                                        \"Poblacion de la ciudad en 10000\"])"
   ]
  },
  {
   "cell_type": "code",
   "execution_count": 596,
   "metadata": {},
   "outputs": [],
   "source": [
    "t0column = np.ones(data.shape[0])\n",
    "data.insert(loc=0,column=\"t0\",value=t0column)\n",
    "x = data.loc[:,'t0':'Ingresos en 10000']\n",
    "x = x.values\n",
    "x = x.T"
   ]
  },
  {
   "cell_type": "code",
   "execution_count": 597,
   "metadata": {},
   "outputs": [],
   "source": [
    "t = np.zeros(data.shape[1]-1)\n",
    "tt = np.matrix(t)"
   ]
  },
  {
   "cell_type": "code",
   "execution_count": 598,
   "metadata": {},
   "outputs": [],
   "source": [
    "y = data.loc[:,'Poblacion de la ciudad en 10000']\n",
    "y = np.matrix(y)\n",
    "y = y.T"
   ]
  },
  {
   "cell_type": "code",
   "execution_count": 599,
   "metadata": {},
   "outputs": [],
   "source": [
    "iterations = 1500\n",
    "learning_rate = 0.01"
   ]
  },
  {
   "cell_type": "code",
   "execution_count": 600,
   "metadata": {},
   "outputs": [],
   "source": [
    "#Gradient Descent\n",
    "def gradient_descent(x,theta,iterations,learning_rate):\n",
    "    start = time.time()\n",
    "    for i in range(iterations):\n",
    "        h = theta.dot(x).T\n",
    "        theta = theta-((learning_rate/data.shape[0])*((h-y).T.dot(x.T)))\n",
    "    end = time.time()\n",
    "    return theta, (end-start)"
   ]
  },
  {
   "cell_type": "code",
   "execution_count": 601,
   "metadata": {},
   "outputs": [],
   "source": [
    "tt,elapsed = gradient_descent(x,tt,iterations,learning_rate)"
   ]
  },
  {
   "cell_type": "code",
   "execution_count": 602,
   "metadata": {},
   "outputs": [],
   "source": [
    "h = np.matrix([np.ones(25),np.arange(25)])\n",
    "h = np.array(tt.dot(h))\n",
    "h = h.tolist()"
   ]
  },
  {
   "cell_type": "code",
   "execution_count": 603,
   "metadata": {},
   "outputs": [
    {
     "data": {
      "text/plain": [
       "[<matplotlib.lines.Line2D at 0x7feeed5fdd68>]"
      ]
     },
     "execution_count": 603,
     "metadata": {},
     "output_type": "execute_result"
    },
    {
     "data": {
      "image/png": "[encoded data removed]",
      "text/plain": [
       "<Figure size 432x288 with 1 Axes>"
      ]
     },
     "metadata": {
      "needs_background": "light"
     },
     "output_type": "display_data"
    }
   ],
   "source": [
    "ydata = data.loc[:,'Poblacion de la ciudad en 10000']\n",
    "xdata = data.loc[:,'Ingresos en 10000']\n",
    "plt.figure()\n",
    "plt.scatter(xdata,ydata)\n",
    "plt.plot(h[0],'-r')\n"
   ]
  },
  {
   "cell_type": "code",
   "execution_count": 604,
   "metadata": {},
   "outputs": [],
   "source": [
    "#PARTE 2 con gradient descent\n",
    "data = p.read_csv(\"ex1data2.csv\",sep=',',names=[\"Pies cuadrados\",\"Habitaciones\",\"Precio\"])"
   ]
  },
  {
   "cell_type": "code",
   "execution_count": 605,
   "metadata": {},
   "outputs": [],
   "source": [
    "x = data.loc[:,'Pies cuadrados':'Habitaciones']\n",
    "x = x.values\n",
    "x = x.T"
   ]
  },
  {
   "cell_type": "code",
   "execution_count": 606,
   "metadata": {},
   "outputs": [],
   "source": [
    "def normalize_matrix(x):\n",
    "    mean_matrix = np.matrix(list(map(np.mean,x)))\n",
    "    std_matrix = np.matrix(list(map(np.std,x)))\n",
    "    x_normalized = (x-mean_matrix.T)/std_matrix.T\n",
    "    return x_normalized,mean_matrix,std_matrix\n",
    "\n",
    "def normalize(x,mean_matrix,std_matrix):\n",
    "    x_normalized = (x-mean_matrix.T)/std_matrix.T\n",
    "    x_normalized = np.insert(arr=x_normalized,values=np.ones(x_normalized.shape[1]),obj=0,axis=0)\n",
    "    return x_normalized\n",
    "\n",
    "x_normalized,mean_matrix,std_matrix = normalize_matrix(x)\n",
    "x_normalized = np.insert(arr=x_normalized,values=np.ones(x_normalized.shape[1]),obj=0,axis=0)"
   ]
  },
  {
   "cell_type": "code",
   "execution_count": 607,
   "metadata": {},
   "outputs": [],
   "source": [
    "t = np.zeros(x_normalized.shape[0])\n",
    "theta_ini = np.matrix(t)"
   ]
  },
  {
   "cell_type": "code",
   "execution_count": 608,
   "metadata": {},
   "outputs": [],
   "source": [
    "y = data.loc[:,'Precio']\n",
    "y = np.matrix(y)\n",
    "y = y.T"
   ]
  },
  {
   "cell_type": "code",
   "execution_count": 609,
   "metadata": {},
   "outputs": [],
   "source": [
    "#Gradient Descent times\n",
    "theta,elapsed = gradient_descent(x_normalized,theta_ini,iterations,learning_rate)\n"
   ]
  },
  {
   "cell_type": "code",
   "execution_count": 610,
   "metadata": {},
   "outputs": [],
   "source": [
    "t0column = np.ones(data.shape[0])\n",
    "data.insert(loc=0,column=\"t0\",value=t0column)\n",
    "x = data.loc[:,'t0':'Habitaciones']\n",
    "x = x.values"
   ]
  },
  {
   "cell_type": "code",
   "execution_count": 611,
   "metadata": {},
   "outputs": [
    {
     "name": "stdout",
     "output_type": "stream",
     "text": [
      "[[338635.60808929]]\n",
      "[[338717.30881357]]\n"
     ]
    }
   ],
   "source": [
    "#PARTE 2 con ecuacion normal\n",
    "inverse = np.linalg.pinv((x.T.dot(x)))\n",
    "theta_normal = (inverse.dot(x.T)).dot(y)\n",
    "print(theta_normal.T.dot([[1],[2040],[4]]))\n",
    "a = normalize([[2040],[4]],mean_matrix,std_matrix)\n",
    "print(theta.dot(np.matrix(a)))"
   ]
  }
 ],
 "metadata": {
  "kernelspec": {
   "display_name": "Python 3",
   "language": "python",
   "name": "python3"
  },
  "language_info": {
   "codemirror_mode": {
    "name": "ipython",
    "version": 3
   },
   "file_extension": ".py",
   "mimetype": "text/x-python",
   "name": "python",
   "nbconvert_exporter": "python",
   "pygments_lexer": "ipython3",
   "version": "3.7.2"
  }
 },
 "nbformat": 4,
 "nbformat_minor": 2
}
