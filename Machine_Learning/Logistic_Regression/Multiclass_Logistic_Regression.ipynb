{
 "cells": [
  {
   "cell_type": "code",
   "execution_count": 1,
   "metadata": {},
   "outputs": [],
   "source": [
    "import pandas as p\n",
    "import numpy as np\n",
    "import matplotlib.pyplot as mp\n",
    "import scipy.optimize as opt\n",
    "from scipy.io import loadmat"
   ]
  },
  {
   "cell_type": "code",
   "execution_count": 17,
   "metadata": {},
   "outputs": [
    {
     "name": "stdout",
     "output_type": "stream",
     "text": [
      "[[0. 0. 0. ... 0. 0. 0.]\n",
      " [0. 0. 0. ... 0. 0. 0.]\n",
      " [0. 0. 0. ... 0. 0. 0.]\n",
      " ...\n",
      " [0. 0. 0. ... 0. 0. 0.]\n",
      " [0. 0. 0. ... 0. 0. 0.]\n",
      " [0. 0. 0. ... 0. 0. 0.]]\n"
     ]
    },
    {
     "data": {
      "text/plain": [
       "<matplotlib.image.AxesImage at 0x7effb6d38748>"
      ]
     },
     "execution_count": 17,
     "metadata": {},
     "output_type": "execute_result"
    },
    {
     "data": {
      "image/png": "[encoded data removed]",
      "text/plain": [
       "<Figure size 432x288 with 1 Axes>"
      ]
     },
     "metadata": {
      "needs_background": "light"
     },
     "output_type": "display_data"
    }
   ],
   "source": [
    "#Data access\n",
    "data = loadmat('ex3data1.mat')\n",
    "\n",
    "y = data['y']\n",
    "x = data['X']\n",
    "y_T = y.T.ravel()\n",
    "x_T = x.T #?\n",
    "\n",
    "#Select random images and plot\n",
    "sample = np.random.choice(X.shape[0],10)\n",
    "mp.imshow(x[sample, :].reshape(-1,20).T)"
   ]
  },
  {
   "cell_type": "code",
   "execution_count": null,
   "metadata": {},
   "outputs": [],
   "source": [
    "#Sigmoid function\n",
    "sigmoid_function = lambda a : 1 / (1 + np.vectorize(np.exp)(-a))\n",
    "\n",
    "#Gradient function\n",
    "def gradient(theta,x_T,y_T,m):\n",
    "    gradient = 1/m * x_T * (sigmoid_function(theta * x_T).T - y_T)\n",
    "    return (np.asarray(gradient).ravel())\n",
    "\n",
    "#Cost function\n",
    "def cost_function(theta,x_T,y_T,m):\n",
    "    cost = -1/m * ((np.log(sigmoid_function(theta * x_T)) * y_T) + (np.log(1 - sigmoid_function(theta * x_T)) * (1 - y_T)))\n",
    "    return (np.asarray(cost).ravel()[0])"
   ]
  },
  {
   "cell_type": "code",
   "execution_count": null,
   "metadata": {},
   "outputs": [],
   "source": [
    "def oneVsAll(X,y,num_etiquetas,reg):\n",
    "    #Array de 10 x 10 de valores del 0 al 9\n",
    "    \n",
    "    #Division de y entre las columnas de la matriz anterior\n",
    "    #para crear multiclase del 0 al 1\n",
    "    \n",
    "    #Aplicar fmin_tnc por vectorizacion a cada columna de y\n",
    "    #o con un for\n",
    "    \n",
    "    #Devolver array con theta para cada clase\n",
    "    \n",
    "    \n",
    "    "
   ]
  },
  {
   "cell_type": "code",
   "execution_count": 41,
   "metadata": {},
   "outputs": [],
   "source": [
    "#Predictor de clase utilizando la matriz de oneVsAll\n",
    "#la mayor probabilidad de una clase es la que gana"
   ]
  }
 ],
 "metadata": {
  "kernelspec": {
   "display_name": "Python 3",
   "language": "python",
   "name": "python3"
  },
  "language_info": {
   "codemirror_mode": {
    "name": "ipython",
    "version": 3
   },
   "file_extension": ".py",
   "mimetype": "text/x-python",
   "name": "python",
   "nbconvert_exporter": "python",
   "pygments_lexer": "ipython3",
   "version": "3.7.1"
  }
 },
 "nbformat": 4,
 "nbformat_minor": 2
}
