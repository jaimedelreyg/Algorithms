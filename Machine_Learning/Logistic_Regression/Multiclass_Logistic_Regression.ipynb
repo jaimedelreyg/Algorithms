{
 "cells": [
  {
   "cell_type": "code",
   "execution_count": null,
   "metadata": {},
   "outputs": [],
   "source": [
    "# Practica 3 Regresión Multiclase\n",
    "# Autor: Jaime del Rey, Grupo 24"
   ]
  },
  {
   "cell_type": "code",
   "execution_count": 1,
   "metadata": {},
   "outputs": [],
   "source": [
    "import pandas as p\n",
    "import numpy as np\n",
    "import matplotlib.pyplot as mp\n",
    "import scipy.optimize as opt\n",
    "from scipy.io import loadmat"
   ]
  },
  {
   "cell_type": "code",
   "execution_count": 102,
   "metadata": {},
   "outputs": [
    {
     "name": "stdout",
     "output_type": "stream",
     "text": [
      "(5000, 1)\n"
     ]
    },
    {
     "data": {
      "text/plain": [
       "<matplotlib.image.AxesImage at 0x7fe1b4786dd8>"
      ]
     },
     "execution_count": 102,
     "metadata": {},
     "output_type": "execute_result"
    },
    {
     "data": {
      "image/png": "[encoded data removed]",
      "text/plain": [
       "<Figure size 432x288 with 1 Axes>"
      ]
     },
     "metadata": {
      "needs_background": "light"
     },
     "output_type": "display_data"
    }
   ],
   "source": [
    "#Data access\n",
    "data = loadmat('ex3data1.mat')\n",
    "\n",
    "y = data['y']\n",
    "x = data['X']\n",
    "y = np.matrix(y)\n",
    "x = np.matrix(x)\n",
    "y_T = y.T.ravel()\n",
    "x_T = x.T\n",
    "theta = np.zeros(x.shape[1])\n",
    "m = x.shape[0]\n",
    "\n",
    "#Select random images and plot\n",
    "sample = np.random.choice(x.shape[0],10)\n",
    "mp.imshow(x[sample, :].reshape(-1,20).T)"
   ]
  },
  {
   "cell_type": "code",
   "execution_count": 156,
   "metadata": {},
   "outputs": [],
   "source": [
    "#Sigmoid function\n",
    "sigmoid_function = lambda a : 1 / (1 + np.vectorize(np.exp)(-a))\n",
    "\n",
    "#Gradient function\n",
    "def gradient(theta,x_T,y_T,m):\n",
    "    gradient = 1/m * x_T @ (sigmoid_function(theta @ x_T).T - y_T)\n",
    "    return (np.asarray(gradient).ravel())\n",
    "\n",
    "#Cost function\n",
    "def cost_function(theta,x_T,y_T,m):\n",
    "    cost = -1/m * ((np.log(sigmoid_function(theta @ x_T)) @ y_T) + (np.log(1 - sigmoid_function(theta @ x_T)) @ (1 - y_T)))\n",
    "    return (np.asarray(cost).ravel()[0])\n",
    "\n",
    "#Regularized Gradient function\n",
    "def regularized_gradient(theta,x_T,y_T,m,l):\n",
    "    theta = np.matrix(theta)\n",
    "    regularization = (l/m) * theta.T\n",
    "    regularization[0] = 0\n",
    "    gradient = 1/m * x_T @ (sigmoid_function(theta @ x_T).T - y_T) + regularization\n",
    "    return (np.asarray(gradient).ravel())\n",
    "\n",
    "#Regularized Cost function\n",
    "def regularized_cost_function(theta,x_T,y_T,m,l):\n",
    "    regularization =  (l/(2*m)) * (theta @ theta.T)\n",
    "    cost = (-1/m * ((np.log(sigmoid_function(theta @ x_T)) @ y_T) + (np.log(1 - sigmoid_function(theta @ x_T)) @ (1 - y_T)))) + regularization\n",
    "    return (np.asarray(cost).ravel()[0])\n"
   ]
  },
  {
   "cell_type": "code",
   "execution_count": 157,
   "metadata": {},
   "outputs": [],
   "source": [
    "def oneVsAll(X,y,num_etiquetas,reg):\n",
    "\n",
    "    labels = (np.ones((np.shape(y)[0],num_etiquetas)) * np.array(y))\n",
    "    r = range(1,num_etiquetas + 1)\n",
    "    labels = labels == r\n",
    "    labels = labels * 1\n",
    "    labels = np.matrix(labels)\n",
    "\n",
    "    theta_opt = []\n",
    "\n",
    "    for i in range(0,num_etiquetas):\n",
    "        theta_opt.append(opt.fmin_tnc(func=regularized_cost_function,x0=theta,fprime=regularized_gradient,args=(x_T,labels[:,i],m,reg))[0])\n",
    "    \n",
    "    theta_opt = np.asarray(theta_opt)\n",
    "    return theta_opt\n"
   ]
  },
  {
   "cell_type": "code",
   "execution_count": 159,
   "metadata": {},
   "outputs": [
    {
     "name": "stdout",
     "output_type": "stream",
     "text": [
      "[[ 0.00000000e+00  0.00000000e+00  1.13552988e-04 ...  7.45508451e-03\n",
      "  -1.13797228e-09  0.00000000e+00]\n",
      " [ 0.00000000e+00  0.00000000e+00 -2.44471936e-04 ...  1.55260576e-02\n",
      "  -1.66956710e-03  0.00000000e+00]\n",
      " [ 0.00000000e+00  0.00000000e+00 -1.45563461e-04 ... -1.44587856e-05\n",
      "  -3.34817291e-07  0.00000000e+00]\n",
      " ...\n",
      " [ 0.00000000e+00  0.00000000e+00 -2.28795625e-04 ... -1.59917281e-02\n",
      "   1.69801325e-03  0.00000000e+00]\n",
      " [ 0.00000000e+00  0.00000000e+00 -1.36159987e-06 ... -3.91015945e-02\n",
      "   3.80347524e-03  0.00000000e+00]\n",
      " [ 0.00000000e+00  0.00000000e+00 -1.41893014e-09 ... -1.29303577e-04\n",
      "   2.09702712e-06  0.00000000e+00]]\n"
     ]
    }
   ],
   "source": [
    "#Calculate theta_opt\n",
    "theta_opt = oneVsAll(x,y,10,0.1)\n",
    "print(theta_opt)"
   ]
  },
  {
   "cell_type": "code",
   "execution_count": 197,
   "metadata": {},
   "outputs": [
    {
     "name": "stdout",
     "output_type": "stream",
     "text": [
      "[[0.9588]]\n"
     ]
    }
   ],
   "source": [
    "sigmoid_results = sigmoid_function(theta_opt @ x_T).T\n",
    "sigmoid_results = np.argmax(sigmoid_results,1)+1\n",
    "\n",
    "comparition_array = sigmoid_results == y\n",
    "result = sum(comparition_array/m)\n",
    "print(result[0])"
   ]
  },
  {
   "cell_type": "code",
   "execution_count": 145,
   "metadata": {},
   "outputs": [
    {
     "name": "stdout",
     "output_type": "stream",
     "text": [
      "[[ True  True  True ...  True  True  True]]\n",
      "0.9752\n"
     ]
    }
   ],
   "source": [
    "#NEURAL NETWORKS\n",
    "\n",
    "#Data access\n",
    "data = loadmat('ex3data1.mat')\n",
    "\n",
    "y = data['y']\n",
    "x = data['X']\n",
    "y = np.matrix(y)\n",
    "x = np.matrix(x)\n",
    "y_T = y.T.ravel()\n",
    "x_T = x.T\n",
    "\n",
    "#Sigmoid function\n",
    "sigmoid_function = lambda a : 1 / (1 + np.vectorize(np.exp)(-a))\n",
    "\n",
    "#Load all the data and custom weights for the neural network\n",
    "weights = loadmat('ex3weights.mat')\n",
    "weights = weights['Theta1'],weights['Theta2']\n",
    "weights = np.matrix(weights)\n",
    "\n",
    "x = np.hstack((np.ones((np.shape(x)[0],1)),x))\n",
    "x_T = x.T\n",
    "\n",
    "def forward_propagation(activation, weights, i, layers):\n",
    "    if i == (layers - 2):\n",
    "        return np.argmax(sigmoid_function(weights[0,i] @ activation)) + 1\n",
    "    \n",
    "    if i == -1:\n",
    "        return forward_propagation(activation,weights,i+1,layers)\n",
    "    else:\n",
    "        sigmoid = sigmoid_function(weights[0,i] @ activation)\n",
    "        activation = np.vstack((1,sigmoid))\n",
    "        return forward_propagation(activation, weights, i+1, layers)\n",
    "#for loop?  \n",
    "results = []\n",
    "\n",
    "for i in np.arange(5000):\n",
    "    results.append(forward_propagation(x_T[:,i], weights, -1, 3))  \n",
    "    \n",
    "comparition_array = results == y.flatten()\n",
    "\n",
    "valid_classes = np.shape(comparition_array[comparition_array == True])[1]\n",
    "accuracy = valid_classes / np.shape(comparition_array)[1]\n",
    "print(accuracy)"
   ]
  }
 ],
 "metadata": {
  "kernelspec": {
   "display_name": "Python 3",
   "language": "python",
   "name": "python3"
  },
  "language_info": {
   "codemirror_mode": {
    "name": "ipython",
    "version": 3
   },
   "file_extension": ".py",
   "mimetype": "text/x-python",
   "name": "python",
   "nbconvert_exporter": "python",
   "pygments_lexer": "ipython3",
   "version": "3.7.3"
  }
 },
 "nbformat": 4,
 "nbformat_minor": 2
}
