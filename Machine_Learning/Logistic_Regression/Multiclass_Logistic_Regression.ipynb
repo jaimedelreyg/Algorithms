{
 "cells": [
  {
   "cell_type": "code",
   "execution_count": 6,
   "metadata": {},
   "outputs": [],
   "source": [
    "import pandas as p\n",
    "import numpy as np\n",
    "import matplotlib.pyplot as mp\n",
    "import scipy.optimize as opt\n",
    "from scipy.io import loadmat"
   ]
  },
  {
   "cell_type": "code",
   "execution_count": 105,
   "metadata": {},
   "outputs": [
    {
     "name": "stdout",
     "output_type": "stream",
     "text": [
      "500\n"
     ]
    },
    {
     "data": {
      "text/plain": [
       "<matplotlib.image.AxesImage at 0x7fcad3ce0b38>"
      ]
     },
     "execution_count": 105,
     "metadata": {},
     "output_type": "execute_result"
    },
    {
     "data": {
      "image/png": "[encoded data removed]",
      "text/plain": [
       "<Figure size 432x288 with 1 Axes>"
      ]
     },
     "metadata": {
      "needs_background": "light"
     },
     "output_type": "display_data"
    }
   ],
   "source": [
    "#Data access\n",
    "data = loadmat('ex3data1.mat')\n",
    "\n",
    "y = data['y']\n",
    "x = data['X']\n",
    "y = np.matrix(y)\n",
    "x = np.matrix(x)\n",
    "y_T = y.T.ravel()\n",
    "x_T = x.T\n",
    "theta = np.zeros(x.shape[1])\n",
    "m = x.shape[0]\n",
    "\n",
    "#Select random images and plot\n",
    "sample = np.random.choice(x.shape[0],10)\n",
    "mp.imshow(x[sample, :].reshape(-1,20).T)"
   ]
  },
  {
   "cell_type": "code",
   "execution_count": 22,
   "metadata": {},
   "outputs": [],
   "source": [
    "#Sigmoid function\n",
    "sigmoid_function = lambda a : 1 / (1 + np.vectorize(np.exp)(-a))\n",
    "\n",
    "#Gradient function\n",
    "def gradient(theta,x_T,y_T,m):\n",
    "    gradient = 1/m * x_T @ (sigmoid_function(theta @ x_T).T - y_T)\n",
    "    return (np.asarray(gradient).ravel())\n",
    "\n",
    "#Cost function\n",
    "def cost_function(theta,x_T,y_T,m):\n",
    "    cost = -1/m * ((np.log(sigmoid_function(theta @ x_T)) @ y_T) + (np.log(1 - sigmoid_function(theta @ x_T)) @ (1 - y_T)))\n",
    "    return (np.asarray(cost).ravel()[0])\n",
    "\n",
    "#Regularized Gradient function\n",
    "def regularized_gradient(theta,x_T,y_T,m,l):\n",
    "    theta = np.matrix(theta)\n",
    "    regularization = (l/m) * theta.T\n",
    "    regularization[0,0] = 0\n",
    "    gradient = 1/m * x_T @ (sigmoid_function(theta @ x_T).T - y_T) + regularization\n",
    "    return (np.asarray(gradient).ravel())\n",
    "\n",
    "#Regularized Cost function\n",
    "def regularized_cost_function(theta,x_T,y_T,m,l):\n",
    "    regularization =  (l/2*m) * (theta @ theta.T)\n",
    "    cost = (-1/m * ((np.log(sigmoid_function(theta @ x_T)) @ y_T) + (np.log(1 - sigmoid_function(theta @ x_T)) @ (1 - y_T)))) + regularization\n",
    "    return (np.asarray(cost).ravel()[0])\n"
   ]
  },
  {
   "cell_type": "code",
   "execution_count": 131,
   "metadata": {},
   "outputs": [],
   "source": [
    "def oneVsAll(X,y,num_etiquetas,reg):\n",
    "\n",
    "    labels = (np.ones((np.shape(y)[0],num_etiquetas)) * np.array(y))\n",
    "    r = range(1,num_etiquetas + 1)\n",
    "    labels = labels == r\n",
    "    labels = labels * 1\n",
    "    labels = np.matrix(labels)\n",
    "    \n",
    "    theta_opt = []\n",
    "\n",
    "    for i in range(0,num_etiquetas - 1):\n",
    "           theta_opt.append(opt.fmin_tnc(func=regularized_cost_function,x0=theta,fprime=regularized_gradient,args=(x_T,labels[:,i],m,reg))[0])\n",
    "    \n",
    "    theta_opt = np.asarray(theta_opt)\n",
    "    print(theta_opt)\n",
    "    return theta_opt\n"
   ]
  },
  {
   "cell_type": "code",
   "execution_count": 134,
   "metadata": {},
   "outputs": [
    {
     "name": "stderr",
     "output_type": "stream",
     "text": [
      "/home/jaime/Documents/pyenv/lib/python3.7/site-packages/ipykernel_launcher.py:25: RuntimeWarning: divide by zero encountered in log\n"
     ]
    },
    {
     "name": "stdout",
     "output_type": "stream",
     "text": [
      "[[ 0.00000000e+00  0.00000000e+00  1.99452662e-05 ...  7.12603812e-04\n",
      "   4.29335447e-07  0.00000000e+00]\n",
      " [ 0.00000000e+00  0.00000000e+00 -3.82142723e-07 ...  4.11722770e-04\n",
      "  -5.31709984e-05  0.00000000e+00]\n",
      " [ 0.00000000e+00  0.00000000e+00  6.32497322e-07 ...  6.51571246e-06\n",
      "  -1.97098169e-07  0.00000000e+00]\n",
      " ...\n",
      " [ 0.00000000e+00  0.00000000e+00  1.91688928e-07 ... -1.99336406e-04\n",
      "   2.31129862e-05  0.00000000e+00]\n",
      " [ 0.00000000e+00  0.00000000e+00  8.01610752e-07 ...  1.14464025e-05\n",
      "  -5.45207699e-07  0.00000000e+00]\n",
      " [ 0.00000000e+00  0.00000000e+00 -1.40701156e-06 ... -2.98674195e-05\n",
      "   2.17848380e-06  0.00000000e+00]]\n",
      "[[False  True  True ...  True  True False]\n",
      " [False  True  True ...  True  True False]\n",
      " [False  True  True ...  True  True False]\n",
      " ...\n",
      " [ True  True  True ...  True  True  True]\n",
      " [False  True  True ...  True  True  True]\n",
      " [False  True  True ...  True  True False]]\n"
     ]
    },
    {
     "ename": "ValueError",
     "evalue": "operands could not be broadcast together with shapes (5000,9) (10,) ",
     "traceback": [
      "\u001b[0;31m---------------------------------------------------------------------------\u001b[0m",
      "\u001b[0;31mValueError\u001b[0m                                Traceback (most recent call last)",
      "\u001b[0;32m<ipython-input-134-9e5c5647f114>\u001b[0m in \u001b[0;36m<module>\u001b[0;34m\u001b[0m\n\u001b[1;32m      2\u001b[0m \u001b[0msigmoid_results\u001b[0m \u001b[0;34m=\u001b[0m \u001b[0msigmoid_function\u001b[0m\u001b[0;34m(\u001b[0m\u001b[0mtheta_opt\u001b[0m \u001b[0;34m@\u001b[0m \u001b[0mx_T\u001b[0m\u001b[0;34m)\u001b[0m\u001b[0;34m.\u001b[0m\u001b[0mT\u001b[0m \u001b[0;34m>=\u001b[0m \u001b[0;36m0.5\u001b[0m\u001b[0;34m\u001b[0m\u001b[0;34m\u001b[0m\u001b[0m\n\u001b[1;32m      3\u001b[0m \u001b[0mprint\u001b[0m\u001b[0;34m(\u001b[0m\u001b[0mnp\u001b[0m\u001b[0;34m.\u001b[0m\u001b[0marray\u001b[0m\u001b[0;34m(\u001b[0m\u001b[0msigmoid_results\u001b[0m\u001b[0;34m)\u001b[0m\u001b[0;34m)\u001b[0m\u001b[0;34m\u001b[0m\u001b[0;34m\u001b[0m\u001b[0m\n\u001b[0;32m----> 4\u001b[0;31m \u001b[0msigmoid_results\u001b[0m \u001b[0;34m=\u001b[0m \u001b[0mnp\u001b[0m\u001b[0;34m.\u001b[0m\u001b[0marray\u001b[0m\u001b[0;34m(\u001b[0m\u001b[0msigmoid_results\u001b[0m\u001b[0;34m)\u001b[0m \u001b[0;34m*\u001b[0m \u001b[0mnp\u001b[0m\u001b[0;34m.\u001b[0m\u001b[0marange\u001b[0m\u001b[0;34m(\u001b[0m\u001b[0;36m10\u001b[0m\u001b[0;34m)\u001b[0m\u001b[0;34m\u001b[0m\u001b[0;34m\u001b[0m\u001b[0m\n\u001b[0m\u001b[1;32m      5\u001b[0m \u001b[0mprint\u001b[0m\u001b[0;34m(\u001b[0m\u001b[0msigmoid_results\u001b[0m\u001b[0;34m)\u001b[0m\u001b[0;34m\u001b[0m\u001b[0;34m\u001b[0m\u001b[0m\n\u001b[1;32m      6\u001b[0m \u001b[0;34m\u001b[0m\u001b[0m\n",
      "\u001b[0;31mValueError\u001b[0m: operands could not be broadcast together with shapes (5000,9) (10,) "
     ],
     "output_type": "error"
    }
   ],
   "source": [
    "#???????????????????????????????????????????????????\n",
    "theta_opt = oneVsAll(x,y,10,-1)\n",
    "sigmoid_results = sigmoid_function(theta_opt @ x_T).T >= 0.5\n",
    "print(np.array(sigmoid_results))\n",
    "sigmoid_results = np.array(sigmoid_results) * np.arange(10)\n",
    "print(sigmoid_results)\n",
    "\n",
    "#comparition_array = sigmoid_results == y\n",
    "\n",
    "#valid_classes = np.shape(comparition_array[comparition_array == True])[1]\n",
    "#accuracy = valid_classes / np.shape(comparition_array)[1]\n",
    "#print(accuracy)\n",
    "#??????????????????????????????????????????????????"
   ]
  },
  {
   "cell_type": "code",
   "execution_count": 145,
   "metadata": {},
   "outputs": [
    {
     "name": "stdout",
     "output_type": "stream",
     "text": [
      "[[ True  True  True ...  True  True  True]]\n",
      "0.9752\n"
     ]
    }
   ],
   "source": [
    "#NEURAL NETWORKS\n",
    "\n",
    "#Data access\n",
    "data = loadmat('ex3data1.mat')\n",
    "\n",
    "y = data['y']\n",
    "x = data['X']\n",
    "y = np.matrix(y)\n",
    "x = np.matrix(x)\n",
    "y_T = y.T.ravel()\n",
    "x_T = x.T\n",
    "\n",
    "#Sigmoid function\n",
    "sigmoid_function = lambda a : 1 / (1 + np.vectorize(np.exp)(-a))\n",
    "\n",
    "#Load all the data and custom weights for the neural network\n",
    "weights = loadmat('ex3weights.mat')\n",
    "weights = weights['Theta1'],weights['Theta2']\n",
    "weights = np.matrix(weights)\n",
    "\n",
    "x = np.hstack((np.ones((np.shape(x)[0],1)),x))\n",
    "x_T = x.T\n",
    "\n",
    "def forward_propagation(activation, weights, i, layers):\n",
    "    if i == (layers - 2):\n",
    "        return np.argmax(sigmoid_function(weights[0,i] @ activation)) + 1\n",
    "    \n",
    "    if i == -1:\n",
    "        return forward_propagation(activation,weights,i+1,layers)\n",
    "    else:\n",
    "        sigmoid = sigmoid_function(weights[0,i] @ activation)\n",
    "        activation = np.vstack((1,sigmoid))\n",
    "        return forward_propagation(activation, weights, i+1, layers)\n",
    "#for loop?  \n",
    "results = []\n",
    "\n",
    "for i in np.arange(5000):\n",
    "    results.append(forward_propagation(x_T[:,i], weights, -1, 3))  \n",
    "    \n",
    "comparition_array = results == y.flatten()\n",
    "\n",
    "valid_classes = np.shape(comparition_array[comparition_array == True])[1]\n",
    "accuracy = valid_classes / np.shape(comparition_array)[1]\n",
    "print(accuracy)"
   ]
  }
 ],
 "metadata": {
  "kernelspec": {
   "display_name": "Python 3",
   "language": "python",
   "name": "python3"
  },
  "language_info": {
   "codemirror_mode": {
    "name": "ipython",
    "version": 3
   },
   "file_extension": ".py",
   "mimetype": "text/x-python",
   "name": "python",
   "nbconvert_exporter": "python",
   "pygments_lexer": "ipython3",
   "version": "3.7.2"
  }
 },
 "nbformat": 4,
 "nbformat_minor": 2
}
